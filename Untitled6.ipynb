{
  "nbformat": 4,
  "nbformat_minor": 0,
  "metadata": {
    "colab": {
      "provenance": [],
      "authorship_tag": "ABX9TyMUiW5hiX3b1w/dL5U1p1Qi",
      "include_colab_link": true
    },
    "kernelspec": {
      "name": "python3",
      "display_name": "Python 3"
    },
    "language_info": {
      "name": "python"
    }
  },
  "cells": [
    {
      "cell_type": "markdown",
      "metadata": {
        "id": "view-in-github",
        "colab_type": "text"
      },
      "source": [
        "<a href=\"https://colab.research.google.com/github/LissMendoza/inteligennciaArtificial/blob/main/Untitled6.ipynb\" target=\"_parent\"><img src=\"https://colab.research.google.com/assets/colab-badge.svg\" alt=\"Open In Colab\"/></a>"
      ]
    },
    {
      "cell_type": "code",
      "execution_count": 14,
      "metadata": {
        "colab": {
          "base_uri": "https://localhost:8080/"
        },
        "id": "owX9Exki8bHG",
        "outputId": "770675cc-a2d2-4ed3-8ff2-3e0a18e86318"
      },
      "outputs": [
        {
          "output_type": "stream",
          "name": "stdout",
          "text": [
            "(3,)\n",
            "<class 'numpy.ndarray'>\n",
            "[11 22 33]\n",
            "22\n",
            "[11 22]\n",
            "[22 33]\n",
            "[ 11 888  33]\n"
          ]
        }
      ],
      "source": [
        "import numpy as np\n",
        "\n",
        "a=np.array([11,22,33])\n",
        "print(a.shape)\n",
        "print(type(a))\n",
        "print(a)\n",
        "\n",
        "print(a[1])\n",
        "print(a[:2])\n",
        "print(a[1:])\n",
        "\n",
        "a[1] = 888\n",
        "print(a)\n",
        "\n"
      ]
    },
    {
      "cell_type": "code",
      "source": [
        "b=np.array([[1,2,3],[11,22,33],[111,222,333]])\n",
        "print(b.shape)\n",
        "print(type(b))\n",
        "print(b)\n",
        "print(b[1,1])\n",
        "aux=b[1:,1:]\n",
        "print(aux.shape)\n",
        "print(aux)\n",
        "\n",
        "print('antes')\n",
        "print(b)\n",
        "print(aux)\n",
        "\n",
        "aux[1,1]=1000\n",
        "\n",
        "print('despues')\n",
        "print(b)\n",
        "print(aux)"
      ],
      "metadata": {
        "colab": {
          "base_uri": "https://localhost:8080/"
        },
        "id": "JfklkNynAXr2",
        "outputId": "9ec64e3f-5f6c-4691-fbd1-b3e5180a25ec"
      },
      "execution_count": 21,
      "outputs": [
        {
          "output_type": "stream",
          "name": "stdout",
          "text": [
            "(3, 3)\n",
            "<class 'numpy.ndarray'>\n",
            "[[  1   2   3]\n",
            " [ 11  22  33]\n",
            " [111 222 333]]\n",
            "22\n",
            "(2, 2)\n",
            "[[ 22  33]\n",
            " [222 333]]\n",
            "antes\n",
            "[[  1   2   3]\n",
            " [ 11  22  33]\n",
            " [111 222 333]]\n",
            "[[ 22  33]\n",
            " [222 333]]\n",
            "despues\n",
            "[[   1    2    3]\n",
            " [  11   22   33]\n",
            " [ 111  222 1000]]\n",
            "[[  22   33]\n",
            " [ 222 1000]]\n"
          ]
        }
      ]
    },
    {
      "cell_type": "code",
      "source": [
        "c=np.zeros((4,4))\n",
        "print(c)\n",
        "print(c.shape)\n",
        "\n",
        "d=np.full((4,4),9)\n",
        "print(d)\n"
      ],
      "metadata": {
        "colab": {
          "base_uri": "https://localhost:8080/"
        },
        "id": "ni2V0WcmDt6r",
        "outputId": "39ec5775-d7a4-495e-c0e4-af39cbc6866f"
      },
      "execution_count": 23,
      "outputs": [
        {
          "output_type": "stream",
          "name": "stdout",
          "text": [
            "[[0. 0. 0. 0.]\n",
            " [0. 0. 0. 0.]\n",
            " [0. 0. 0. 0.]\n",
            " [0. 0. 0. 0.]]\n",
            "(4, 4)\n",
            "[[9 9 9 9]\n",
            " [9 9 9 9]\n",
            " [9 9 9 9]\n",
            " [9 9 9 9]]\n"
          ]
        }
      ]
    },
    {
      "cell_type": "code",
      "source": [
        "e=np.eye(3,3)\n",
        "print(e)\n",
        "f=np.ones((4,5))\n",
        "print(f)\n"
      ],
      "metadata": {
        "colab": {
          "base_uri": "https://localhost:8080/"
        },
        "id": "YLEJ-MifEctj",
        "outputId": "3762e877-9615-45c3-a5d9-de5e02c9fcf8"
      },
      "execution_count": 25,
      "outputs": [
        {
          "output_type": "stream",
          "name": "stdout",
          "text": [
            "[[1. 0. 0.]\n",
            " [0. 1. 0.]\n",
            " [0. 0. 1.]]\n",
            "[[1. 1. 1. 1. 1.]\n",
            " [1. 1. 1. 1. 1.]\n",
            " [1. 1. 1. 1. 1.]\n",
            " [1. 1. 1. 1. 1.]]\n"
          ]
        }
      ]
    },
    {
      "cell_type": "code",
      "source": [
        "g=np.random.random((5,5))\n",
        "print(g)"
      ],
      "metadata": {
        "colab": {
          "base_uri": "https://localhost:8080/"
        },
        "id": "KwuyuUOmFEYX",
        "outputId": "28c1fd38-7741-4a3d-ae51-61c906a99fad"
      },
      "execution_count": 26,
      "outputs": [
        {
          "output_type": "stream",
          "name": "stdout",
          "text": [
            "[[0.8399212  0.79493404 0.56141453 0.62643897 0.72091764]\n",
            " [0.3890977  0.90602286 0.1380617  0.3783296  0.42752002]\n",
            " [0.34428457 0.27646859 0.35257673 0.031761   0.56954206]\n",
            " [0.16406292 0.66982563 0.82917782 0.96550663 0.17390922]\n",
            " [0.73405021 0.98313681 0.98828615 0.72567673 0.63358056]]\n"
          ]
        }
      ]
    },
    {
      "cell_type": "code",
      "source": [
        "tmp1=np.random.randint(1,20,(4,4))\n",
        "print(tmp1)\n",
        "row=np.array([0,1,2,0])\n",
        "cols=np.arange(4)\n",
        "print(row)\n",
        "print(cols)\n",
        "\n"
      ],
      "metadata": {
        "colab": {
          "base_uri": "https://localhost:8080/"
        },
        "id": "UbTctZZWF-HS",
        "outputId": "168726ff-7a5c-4a95-afb4-cfc0481a7be9"
      },
      "execution_count": 35,
      "outputs": [
        {
          "output_type": "stream",
          "name": "stdout",
          "text": [
            "[[ 9  4  9  5]\n",
            " [ 1  6  7 18]\n",
            " [ 4  1 13 16]\n",
            " [ 4  1  9 10]]\n",
            "[0 1 2 0]\n",
            "[0 1 2 3]\n"
          ]
        }
      ]
    },
    {
      "cell_type": "code",
      "source": [
        "tmp1[row,cols]=100\n",
        "print(tmp1)"
      ],
      "metadata": {
        "colab": {
          "base_uri": "https://localhost:8080/"
        },
        "id": "kay-SPamJm2i",
        "outputId": "076607a0-29b5-4ebd-bb95-037f12fe7a98"
      },
      "execution_count": 37,
      "outputs": [
        {
          "output_type": "stream",
          "name": "stdout",
          "text": [
            "[[100   4   9 100]\n",
            " [  1 100   7  18]\n",
            " [  4   1 100  16]\n",
            " [  4   1   9  10]]\n"
          ]
        }
      ]
    },
    {
      "cell_type": "code",
      "source": [
        "tmp1=np.random.randint(20,50,(6,6))\n",
        "print(tmp1)\n"
      ],
      "metadata": {
        "colab": {
          "base_uri": "https://localhost:8080/"
        },
        "id": "lMv5oM1qKPfa",
        "outputId": "a5805043-4c80-44d1-9cc8-70f6dea34f1b"
      },
      "execution_count": 53,
      "outputs": [
        {
          "output_type": "stream",
          "name": "stdout",
          "text": [
            "[[29 26 39 31 21 29]\n",
            " [34 29 20 29 47 29]\n",
            " [39 30 29 42 23 20]\n",
            " [21 41 35 32 28 32]\n",
            " [25 41 27 20 20 38]\n",
            " [47 38 29 31 34 36]]\n"
          ]
        }
      ]
    },
    {
      "cell_type": "code",
      "source": [
        "filter=(tmp1>45)\n",
        "print(filter)\n",
        "tmp2=tmp1[filter]\n",
        "print(tmp2)\n",
        "\n"
      ],
      "metadata": {
        "colab": {
          "base_uri": "https://localhost:8080/"
        },
        "id": "U7wCrRIJLENx",
        "outputId": "f2f9fec6-f32f-46a1-f979-807bc01a287f"
      },
      "execution_count": 54,
      "outputs": [
        {
          "output_type": "stream",
          "name": "stdout",
          "text": [
            "[[False False False False False False]\n",
            " [False False False False  True False]\n",
            " [False False False False False False]\n",
            " [False False False False False False]\n",
            " [False False False False False False]\n",
            " [ True False False False False False]]\n",
            "[47 47]\n"
          ]
        }
      ]
    },
    {
      "cell_type": "code",
      "source": [
        "tmp1=np.random.randint(20,50,(10,10))\n",
        "print(tmp1)"
      ],
      "metadata": {
        "colab": {
          "base_uri": "https://localhost:8080/"
        },
        "id": "laYUI2B0NJtZ",
        "outputId": "a595a8d1-bd7c-4b60-b005-c12ecad98f1d"
      },
      "execution_count": 57,
      "outputs": [
        {
          "output_type": "stream",
          "name": "stdout",
          "text": [
            "[[27 43 32 40 36 46 29 38 36 41]\n",
            " [36 33 20 46 45 27 49 24 27 26]\n",
            " [47 49 33 43 42 39 21 40 47 33]\n",
            " [34 36 36 43 45 44 23 22 47 26]\n",
            " [37 39 24 48 28 26 37 42 31 47]\n",
            " [23 35 23 45 34 39 39 30 28 43]\n",
            " [40 26 40 23 22 30 26 33 24 49]\n",
            " [20 30 31 27 31 21 28 47 31 29]\n",
            " [35 25 28 23 33 42 31 33 20 23]\n",
            " [26 23 29 27 38 40 39 39 43 23]]\n"
          ]
        }
      ]
    },
    {
      "cell_type": "code",
      "source": [
        "impares=tmp1 %  2!=1\n",
        "print(impares)\n",
        "tmp2=tmp1[impares]\n",
        "print(tmp2)"
      ],
      "metadata": {
        "colab": {
          "base_uri": "https://localhost:8080/"
        },
        "id": "wgLfrdP8NngB",
        "outputId": "3c07ef59-c1b5-4703-bdf9-021ec5558889"
      },
      "execution_count": 58,
      "outputs": [
        {
          "output_type": "stream",
          "name": "stdout",
          "text": [
            "[[False False  True  True  True  True False  True  True False]\n",
            " [ True False  True  True False False False  True False  True]\n",
            " [False False False False  True False False  True False False]\n",
            " [ True  True  True False False  True False  True False  True]\n",
            " [False False  True  True  True  True False  True False False]\n",
            " [False False False False  True False False  True  True False]\n",
            " [ True  True  True False  True  True  True False  True False]\n",
            " [ True  True False False False False  True False False False]\n",
            " [False False  True False False  True False False  True False]\n",
            " [ True False False False  True  True False False False False]]\n",
            "[32 40 36 46 38 36 36 20 46 24 26 42 40 34 36 36 44 22 26 24 48 28 26 42\n",
            " 34 30 28 40 26 40 22 30 26 24 20 30 28 28 42 20 26 38 40]\n"
          ]
        }
      ]
    },
    {
      "cell_type": "code",
      "source": [
        "tmp3=np.array([1,2,3,4,5],dtype=np.float64)\n",
        "print(tmp3.dtype)"
      ],
      "metadata": {
        "colab": {
          "base_uri": "https://localhost:8080/"
        },
        "id": "LruiXG4LOgKI",
        "outputId": "59fa71c6-2a2e-4f17-9e8e-baf63e750b89"
      },
      "execution_count": 59,
      "outputs": [
        {
          "output_type": "stream",
          "name": "stdout",
          "text": [
            "float64\n"
          ]
        }
      ]
    },
    {
      "cell_type": "code",
      "source": [
        "x=np.array([[1,2],[33,44]])\n",
        "y=np.array([[55,66],[77,88]])\n",
        "print(x)\n",
        "print(y)\n",
        "\n",
        "\n",
        "print(np.add(x,y))\n",
        "print(np.subtract(x,y))\n",
        "print(np.multiply(x,y))\n",
        "print(np.divide(x,y))\n",
        "print(np.sqrt(x))"
      ],
      "metadata": {
        "colab": {
          "base_uri": "https://localhost:8080/"
        },
        "id": "hvL7UqqtPJ6Q",
        "outputId": "db7e6769-5358-4faa-a3bb-edf99f2337a8"
      },
      "execution_count": 63,
      "outputs": [
        {
          "output_type": "stream",
          "name": "stdout",
          "text": [
            "[[ 1  2]\n",
            " [33 44]]\n",
            "[[55 66]\n",
            " [77 88]]\n",
            "[[ 56  68]\n",
            " [110 132]]\n",
            "[[-54 -64]\n",
            " [-44 -44]]\n",
            "[[  55  132]\n",
            " [2541 3872]]\n",
            "[[0.01818182 0.03030303]\n",
            " [0.42857143 0.5       ]]\n",
            "[[1.         1.41421356]\n",
            " [5.74456265 6.63324958]]\n"
          ]
        }
      ]
    },
    {
      "cell_type": "code",
      "source": [
        "tmp1=np.random.randint(1,10,(2,5))\n",
        "print(tmp1)\n",
        "aux=tmp1.mean()\n",
        "print(aux)\n"
      ],
      "metadata": {
        "colab": {
          "base_uri": "https://localhost:8080/"
        },
        "id": "1nBJq335Qfln",
        "outputId": "f5f26cbf-d271-4618-a527-f4da7e106ae5"
      },
      "execution_count": 65,
      "outputs": [
        {
          "output_type": "stream",
          "name": "stdout",
          "text": [
            "[[6 8 3 9 5]\n",
            " [4 4 1 1 1]]\n",
            "4.2\n"
          ]
        }
      ]
    },
    {
      "cell_type": "code",
      "source": [
        "print(tmp1.mean(axis=1))\n",
        "print(tmp1.mean(axis=0))\n"
      ],
      "metadata": {
        "colab": {
          "base_uri": "https://localhost:8080/"
        },
        "id": "Mxzo9O9MQ-oD",
        "outputId": "f7bffa08-2af8-4ea2-932b-596fe46cbab4"
      },
      "execution_count": 68,
      "outputs": [
        {
          "output_type": "stream",
          "name": "stdout",
          "text": [
            "[6.2 2.2]\n",
            "[5. 6. 2. 5. 3.]\n"
          ]
        }
      ]
    }
  ]
}