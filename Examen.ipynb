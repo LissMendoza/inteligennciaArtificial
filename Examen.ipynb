{
  "nbformat": 4,
  "nbformat_minor": 0,
  "metadata": {
    "colab": {
      "provenance": [],
      "authorship_tag": "ABX9TyNFfDYt8idUQ7flnnILZvlO",
      "include_colab_link": true
    },
    "kernelspec": {
      "name": "python3",
      "display_name": "Python 3"
    },
    "language_info": {
      "name": "python"
    }
  },
  "cells": [
    {
      "cell_type": "markdown",
      "metadata": {
        "id": "view-in-github",
        "colab_type": "text"
      },
      "source": [
        "<a href=\"https://colab.research.google.com/github/LissMendoza/inteligennciaArtificial/blob/main/Examen.ipynb\" target=\"_parent\"><img src=\"https://colab.research.google.com/assets/colab-badge.svg\" alt=\"Open In Colab\"/></a>"
      ]
    },
    {
      "cell_type": "code",
      "execution_count": 1,
      "metadata": {
        "colab": {
          "base_uri": "https://localhost:8080/"
        },
        "id": "y3_uQnqw-VQa",
        "outputId": "183093dd-5b98-47b6-973f-8484a7062b1f"
      },
      "outputs": [
        {
          "output_type": "stream",
          "name": "stdout",
          "text": [
            "1.25.2\n"
          ]
        }
      ],
      "source": [
        "import numpy as np\n",
        "print(np.__version__)"
      ]
    },
    {
      "cell_type": "code",
      "source": [
        "matriz_1d = np.array([0, 1, 2, 3, 4, 5, 6, 7, 8, 9])\n",
        "print(matriz_1d)"
      ],
      "metadata": {
        "colab": {
          "base_uri": "https://localhost:8080/"
        },
        "id": "ncg1tpP1_Wmt",
        "outputId": "f579e3a0-2e04-458b-8986-c4e6eeee2429"
      },
      "execution_count": 2,
      "outputs": [
        {
          "output_type": "stream",
          "name": "stdout",
          "text": [
            "[0 1 2 3 4 5 6 7 8 9]\n"
          ]
        }
      ]
    },
    {
      "cell_type": "code",
      "source": [
        "vector = np.random.rand(10)\n",
        "\n",
        "print(\"Vector original:\")\n",
        "print(vector)\n",
        "\n",
        "# Encontrar el índice del valor máximo\n",
        "indice_maximo = np.argmax(vector)\n",
        "\n",
        "# Reemplazar el valor máximo por 0\n",
        "vector[indice_maximo] = 0\n",
        "\n",
        "print(\"\\nVector con el valor máximo reemplazado por 0:\")\n",
        "print(vector)"
      ],
      "metadata": {
        "colab": {
          "base_uri": "https://localhost:8080/"
        },
        "id": "VZsmyhFR_8Et",
        "outputId": "18b10e93-9325-42fa-8fb2-1b03d05843be"
      },
      "execution_count": 3,
      "outputs": [
        {
          "output_type": "stream",
          "name": "stdout",
          "text": [
            "Vector original:\n",
            "[0.4009759  0.20504396 0.12426584 0.67927886 0.54629858 0.64919451\n",
            " 0.00429726 0.30193952 0.54715574 0.62613855]\n",
            "\n",
            "Vector con el valor máximo reemplazado por 0:\n",
            "[0.4009759  0.20504396 0.12426584 0.         0.54629858 0.64919451\n",
            " 0.00429726 0.30193952 0.54715574 0.62613855]\n"
          ]
        }
      ]
    },
    {
      "cell_type": "code",
      "source": [
        "arr=np.array([[1,2,3,4,5], [6,7,8,9,10]])\n",
        "print(arr[1, 2])\n",
        "#Se encuentra en la segunda fila (índice 1) y la tercera columna (índice 2)"
      ],
      "metadata": {
        "colab": {
          "base_uri": "https://localhost:8080/"
        },
        "id": "s7fufP6pAuRT",
        "outputId": "9760cfba-274d-430d-dace-680fddd1e9a7"
      },
      "execution_count": 4,
      "outputs": [
        {
          "output_type": "stream",
          "name": "stdout",
          "text": [
            "8\n"
          ]
        }
      ]
    },
    {
      "cell_type": "code",
      "source": [
        "arr=np.array([1,2,3,4,5,6,7])\n",
        "print(arr[2:5])"
      ],
      "metadata": {
        "colab": {
          "base_uri": "https://localhost:8080/"
        },
        "id": "OS8mGdTZBhjd",
        "outputId": "5b2d3dfd-8cfa-4b9e-8736-8f7ec2543d4c"
      },
      "execution_count": 5,
      "outputs": [
        {
          "output_type": "stream",
          "name": "stdout",
          "text": [
            "[3 4 5]\n"
          ]
        }
      ]
    },
    {
      "cell_type": "code",
      "source": [
        "arr=np.array([1,2,3,4,5,6,7])\n",
        "ultimos_4_numeros = arr[-4:]\n",
        "\n",
        "print(ultimos_4_numeros)\n",
        "#slicing"
      ],
      "metadata": {
        "colab": {
          "base_uri": "https://localhost:8080/"
        },
        "id": "rV-lhZYrCEx8",
        "outputId": "ac7baeb0-2462-41ab-8c96-0dafc9ba34e8"
      },
      "execution_count": 6,
      "outputs": [
        {
          "output_type": "stream",
          "name": "stdout",
          "text": [
            "[4 5 6 7]\n"
          ]
        }
      ]
    },
    {
      "cell_type": "code",
      "source": [
        "\n",
        "g=np.random.random((3,3))\n",
        "print(g)"
      ],
      "metadata": {
        "colab": {
          "base_uri": "https://localhost:8080/"
        },
        "id": "s7c7ODiOCq2k",
        "outputId": "0c8729d8-01de-4bbb-d487-be0f5aa8ee81"
      },
      "execution_count": 10,
      "outputs": [
        {
          "output_type": "stream",
          "name": "stdout",
          "text": [
            "[[0.17752008 0.02032018 0.98594337]\n",
            " [0.21170934 0.03468283 0.28036236]\n",
            " [0.0590002  0.48295574 0.00491879]]\n"
          ]
        }
      ]
    },
    {
      "cell_type": "code",
      "source": [],
      "metadata": {
        "colab": {
          "base_uri": "https://localhost:8080/"
        },
        "id": "NDKDJLhhDl0M",
        "outputId": "5efe262a-3dd5-4ccb-9197-2c30d52b98e5"
      },
      "execution_count": 11,
      "outputs": [
        {
          "output_type": "stream",
          "name": "stdout",
          "text": [
            "\n",
            "Números impares:\n",
            "[0.17752008 0.02032018 0.98594337 0.21170934 0.03468283 0.28036236\n",
            " 0.0590002  0.48295574 0.00491879]\n"
          ]
        }
      ]
    },
    {
      "cell_type": "code",
      "source": [
        "# Crear una matriz 3x3 de números enteros entre 0 y 9\n",
        "matriz = np.random.randint(0, 10, (3, 3))\n",
        "\n",
        "print(\"Matriz original:\")\n",
        "print(matriz)\n",
        "\n",
        "# Encontrar los números impares\n",
        "numeros_impares = matriz[matriz % 2 != 0]\n",
        "\n",
        "print(\"\\nNúmeros impares:\")\n",
        "print(numeros_impares)"
      ],
      "metadata": {
        "colab": {
          "base_uri": "https://localhost:8080/"
        },
        "id": "myk2llkxEUJs",
        "outputId": "1a356a01-e96e-4d4b-fc28-0c20c1a77eaa"
      },
      "execution_count": 12,
      "outputs": [
        {
          "output_type": "stream",
          "name": "stdout",
          "text": [
            "Matriz original:\n",
            "[[9 7 8]\n",
            " [2 5 1]\n",
            " [7 8 1]]\n",
            "\n",
            "Números impares:\n",
            "[9 7 5 1 7 1]\n"
          ]
        }
      ]
    },
    {
      "cell_type": "code",
      "source": [
        "vector = np.arange(10, 49)\n",
        "print(vector)"
      ],
      "metadata": {
        "colab": {
          "base_uri": "https://localhost:8080/"
        },
        "id": "MLw5GkvnEx_R",
        "outputId": "476ab2de-7949-4da0-8e73-64c1a877a4f6"
      },
      "execution_count": 15,
      "outputs": [
        {
          "output_type": "stream",
          "name": "stdout",
          "text": [
            "[10 11 12 13 14 15 16 17 18 19 20 21 22 23 24 25 26 27 28 29 30 31 32 33\n",
            " 34 35 36 37 38 39 40 41 42 43 44 45 46 47 48]\n"
          ]
        }
      ]
    },
    {
      "cell_type": "code",
      "source": [
        "\n",
        "vector = np.array([1, 2, 3, 4, 5])\n",
        "\n",
        "print(\"Vector original:\")\n",
        "print(vector)\n",
        "\n",
        "# Mover el último valor al primer lugar\n",
        "vector = np.roll(vector, 1)\n",
        "\n",
        "print(\"\\nVector con el último valor como el primero:\")\n",
        "print(vector)"
      ],
      "metadata": {
        "colab": {
          "base_uri": "https://localhost:8080/"
        },
        "id": "0vtxstM2FR_0",
        "outputId": "1346b41f-8c0c-4d15-fc54-2cd2b6f956ac"
      },
      "execution_count": 16,
      "outputs": [
        {
          "output_type": "stream",
          "name": "stdout",
          "text": [
            "Vector original:\n",
            "[1 2 3 4 5]\n",
            "\n",
            "Vector con el último valor como el primero:\n",
            "[5 1 2 3 4]\n"
          ]
        }
      ]
    },
    {
      "cell_type": "code",
      "source": [
        "# Crear una matriz 10x10 de números enteros aleatorios entre 0 y 99\n",
        "matriz = np.random.randint(59, 100, (10, 10))\n",
        "\n",
        "print(\"Matriz:\")\n",
        "print(matriz)\n",
        "print(matriz.max())\n",
        "print(matriz.min())"
      ],
      "metadata": {
        "colab": {
          "base_uri": "https://localhost:8080/"
        },
        "id": "qRmsUeyyGemD",
        "outputId": "87999494-deed-48d4-8102-acdeb1e9d1f5"
      },
      "execution_count": 30,
      "outputs": [
        {
          "output_type": "stream",
          "name": "stdout",
          "text": [
            "Matriz:\n",
            "[[91 95 85 70 98 79 76 98 74 79]\n",
            " [89 83 82 98 91 83 64 87 92 98]\n",
            " [62 84 77 68 87 84 73 68 83 88]\n",
            " [97 66 59 87 98 75 89 99 82 94]\n",
            " [65 80 84 81 70 88 88 87 79 86]\n",
            " [64 77 97 79 82 82 91 69 78 94]\n",
            " [78 89 85 72 77 70 64 66 77 64]\n",
            " [81 67 95 66 79 93 83 81 90 64]\n",
            " [89 77 64 85 76 72 65 98 94 68]\n",
            " [78 71 83 60 74 99 89 64 92 99]]\n",
            "99\n",
            "59\n"
          ]
        }
      ]
    },
    {
      "cell_type": "code",
      "source": [
        "g=np.random.random((3,3,3))\n",
        "print(g)"
      ],
      "metadata": {
        "colab": {
          "base_uri": "https://localhost:8080/"
        },
        "id": "HqKsZwCLHCcj",
        "outputId": "3565adb9-3449-47f9-f6bb-58bae1551b86"
      },
      "execution_count": 21,
      "outputs": [
        {
          "output_type": "stream",
          "name": "stdout",
          "text": [
            "[[[0.67139814 0.45989488 0.27695637]\n",
            "  [0.18049047 0.95295041 0.86590073]\n",
            "  [0.2000484  0.04196959 0.70127841]]\n",
            "\n",
            " [[0.78501309 0.51088383 0.85161388]\n",
            "  [0.8600371  0.33721974 0.22189352]\n",
            "  [0.05860136 0.77146918 0.76178559]]\n",
            "\n",
            " [[0.10562991 0.15947491 0.17303888]\n",
            "  [0.58724098 0.30953957 0.76502113]\n",
            "  [0.42534801 0.71422881 0.48601959]]]\n"
          ]
        }
      ]
    }
  ]
}