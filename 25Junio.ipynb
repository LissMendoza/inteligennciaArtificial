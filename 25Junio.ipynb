{
  "nbformat": 4,
  "nbformat_minor": 0,
  "metadata": {
    "colab": {
      "provenance": [],
      "authorship_tag": "ABX9TyOq9UNmUin5S+RGcdsxZTr6",
      "include_colab_link": true
    },
    "kernelspec": {
      "name": "python3",
      "display_name": "Python 3"
    },
    "language_info": {
      "name": "python"
    }
  },
  "cells": [
    {
      "cell_type": "markdown",
      "metadata": {
        "id": "view-in-github",
        "colab_type": "text"
      },
      "source": [
        "<a href=\"https://colab.research.google.com/github/LissMendoza/inteligennciaArtificial/blob/main/25Junio.ipynb\" target=\"_parent\"><img src=\"https://colab.research.google.com/assets/colab-badge.svg\" alt=\"Open In Colab\"/></a>"
      ]
    },
    {
      "cell_type": "code",
      "execution_count": null,
      "metadata": {
        "id": "0Ns_1wWPtIiB"
      },
      "outputs": [],
      "source": []
    },
    {
      "cell_type": "code",
      "source": [
        "# tmp=list()\n",
        "# tmp.append(2)\n",
        "# print(tmp)\n",
        "# tmp.append('alexi')\n",
        "# print(tmp)\n",
        "# tmp.append('lisseth')\n",
        "# print(tmp)\n",
        "\n",
        "#print(tmp[3])\n",
        "#aux.capitalize()\n",
        "#print(aux)\n",
        "#print(aux.upper())\n",
        "\n",
        "# tmp1='hello'\n",
        "# print(tmp1.capitalize())\n",
        "\n",
        "# aux1=[1,2,3,4,5,6,7,8,9,10]\n",
        "# print(aux1)\n",
        "\n",
        "# aux1[4]=10\n",
        "# print(aux1)\n",
        "\n",
        "# print(aux1[-1])\n",
        "# print(aux1[3:7])\n",
        "# print(aux1[0:5])\n",
        "# print(aux1[:5])\n",
        "\n",
        "# aux2=list()\n",
        "# for i in range(100):\n",
        "#   aux2.append(i)\n",
        "#   print(aux2[:20])\n",
        "\n",
        "\n",
        "#   aux3=list()\n",
        "#   for indx, elem in enumerate(aux2):\n",
        "#     if aux2[indx]%2==0:\n",
        "#       aux3.append(aux2[indx]**2)\n",
        "# print(aux3)\n",
        "\n",
        "animals=['cat', 'dog', 'monky', 'rabbit']\n",
        "for animal in animals:\n",
        "  print(animal)\n",
        "\n",
        "tmp3=[ i**2 for i in range(10) if i%2==0 ]\n",
        "print(tmp3)\n",
        "\n"
      ],
      "metadata": {
        "colab": {
          "base_uri": "https://localhost:8080/"
        },
        "id": "hNFAjy7otJgh",
        "outputId": "56d5342d-3431-4f27-95a3-cc35f5ab91c8"
      },
      "execution_count": null,
      "outputs": [
        {
          "output_type": "stream",
          "name": "stdout",
          "text": [
            "cat\n",
            "dog\n",
            "monky\n",
            "rabbit\n",
            "[0, 4, 16, 36, 64]\n"
          ]
        }
      ]
    },
    {
      "cell_type": "code",
      "source": [
        "myDictionary={'cat':'cute','dog':'big'}\n",
        "print(myDictionary['cat'])\n",
        "myDictAux={'monkey':'black','mouse':'small','rabitt':'white'}\n",
        "myDictionary.update(myDictAux)\n",
        "print(myDictionary)\n",
        "for key, value in myDictionary.items():\n",
        "  print(f'key : {key} Value {value}')\n",
        "\n",
        "\n",
        "myList=[1,2,3,4,5,6]\n",
        "myDictAux1 = {x:x**2 for x in myList}\n",
        "print(myDictAux1)\n",
        "\n"
      ],
      "metadata": {
        "colab": {
          "base_uri": "https://localhost:8080/"
        },
        "id": "PAbp7s-Dvasy",
        "outputId": "0b2924c4-b0ec-4aff-9d1d-77be2b2a7f14"
      },
      "execution_count": null,
      "outputs": [
        {
          "output_type": "stream",
          "name": "stdout",
          "text": [
            "cute\n",
            "{'cat': 'cute', 'dog': 'big', 'monkey': 'black', 'mouse': 'small', 'rabitt': 'white'}\n",
            "key : cat Value cute\n",
            "key : dog Value big\n",
            "key : monkey Value black\n",
            "key : mouse Value small\n",
            "key : rabitt Value white\n",
            "{1: 1, 2: 4, 3: 9, 4: 16, 5: 25, 6: 36}\n"
          ]
        }
      ]
    },
    {
      "cell_type": "code",
      "source": [
        "def suma(var1, var2, flag):\n",
        "  if flag==True:\n",
        "   tmp=var1+var2\n",
        "  else:\n",
        "   tmp=var1-var2\n",
        "  return tmp\n",
        "\n",
        "num1=3\n",
        "num2=7\n",
        "control=True\n",
        "print(suma(num1,num2,control))"
      ],
      "metadata": {
        "colab": {
          "base_uri": "https://localhost:8080/"
        },
        "id": "C-3nnkJX4EUn",
        "outputId": "3501c360-424c-4377-fc23-ce7ca3e937f1"
      },
      "execution_count": null,
      "outputs": [
        {
          "output_type": "stream",
          "name": "stdout",
          "text": [
            "10\n"
          ]
        }
      ]
    },
    {
      "cell_type": "code",
      "source": [
        "listaNumero = [-1, +1, 0]\n",
        "\n",
        "def numero_positivo_negativo(numero):\n",
        "    if numero > 0:\n",
        "        return numero, \"positivo\"\n",
        "    elif numero < 0:\n",
        "        return numero, \"negativo\"\n",
        "    else:\n",
        "        return numero, \"cero\"\n",
        "\n",
        "resultados = [numero_positivo_negativo(numero) for numero in listaNumero]\n",
        "for numero, clasificacion in resultados:\n",
        "    print(f\"El número {numero} es {clasificacion}.\")"
      ],
      "metadata": {
        "colab": {
          "base_uri": "https://localhost:8080/"
        },
        "id": "kvRE74sx7_zm",
        "outputId": "a1ce7c31-7a13-4381-ff31-8028f877ef3d"
      },
      "execution_count": null,
      "outputs": [
        {
          "output_type": "stream",
          "name": "stdout",
          "text": [
            "El número -1 es negativo.\n",
            "El número 1 es positivo.\n",
            "El número 0 es cero.\n"
          ]
        }
      ]
    },
    {
      "cell_type": "markdown",
      "source": [
        "26 de Junio"
      ],
      "metadata": {
        "id": "KyZJHt9jw3If"
      }
    },
    {
      "cell_type": "code",
      "source": [
        "#SET AS A CONTAINER\n",
        "var1=set()\n",
        "var1.add(3)\n",
        "print(var1)\n",
        "var1.add('alexi')\n",
        "var1.add(True)\n",
        "print(var1)\n",
        "var1.add(5)\n",
        "print(var1)\n",
        "var1.remove('alexi')\n",
        "print(var1)\n",
        "len\n",
        "print(len(var1))\n",
        "\n",
        "\n",
        "print(3 in var1)\n",
        "\n",
        "for elem in var1:\n",
        "  print(elem)"
      ],
      "metadata": {
        "colab": {
          "base_uri": "https://localhost:8080/"
        },
        "id": "HyoZ88Fcw65O",
        "outputId": "05dcf8a2-ea56-42df-e178-d687af5bb443"
      },
      "execution_count": 9,
      "outputs": [
        {
          "output_type": "stream",
          "name": "stdout",
          "text": [
            "{3}\n",
            "{'alexi', True, 3}\n",
            "{'alexi', True, 3, 5}\n",
            "{True, 3, 5}\n",
            "3\n",
            "True\n",
            "True\n",
            "3\n",
            "5\n"
          ]
        }
      ]
    },
    {
      "cell_type": "code",
      "source": [
        "#TUPLES\n",
        "var2=tuple()\n",
        "var=(1,2,3,4,5)\n",
        "print(type(var))\n",
        "\n",
        "#elemento_a_eliminar = 3\n",
        "#var_sin_elemento = tuple(x for x in var if x != elemento_a_eliminar)\n",
        "\n",
        "#print(var_sin_elemento)\n",
        "\n",
        "aux=list(var)\n",
        "print(type(aux))\n",
        "\n",
        "aux[2]=300\n",
        "var=tuple(aux)\n",
        "print(var)\n",
        "print(type(var))"
      ],
      "metadata": {
        "colab": {
          "base_uri": "https://localhost:8080/"
        },
        "id": "sp3wt6aTzVxv",
        "outputId": "5d1c55eb-0c45-4509-b496-f69fadfc3c6d"
      },
      "execution_count": 17,
      "outputs": [
        {
          "output_type": "stream",
          "name": "stdout",
          "text": [
            "<class 'tuple'>\n",
            "<class 'list'>\n",
            "(1, 2, 300, 4, 5)\n",
            "<class 'tuple'>\n"
          ]
        }
      ]
    },
    {
      "cell_type": "code",
      "source": [
        "#DEFINE A CLASS\n",
        "class saludo(object):\n",
        "    def __init__(self, name):\n",
        "        print(\"El objeto ha sido creado\")\n",
        "        self.name = name\n",
        "\n",
        "    def saludoPersonal(self):\n",
        "        return f\"Hola, {self.name}\"\n",
        "\n",
        "name1 = saludo('alexi')\n",
        "name2 = saludo('lisseth')\n",
        "name3 = saludo('mendoza')\n",
        "\n",
        "print(name1.saludoPersonal())\n"
      ],
      "metadata": {
        "colab": {
          "base_uri": "https://localhost:8080/"
        },
        "id": "xJyicEGN2bQn",
        "outputId": "8f5e109c-bdcc-4e6b-912a-da6ac983529e"
      },
      "execution_count": 21,
      "outputs": [
        {
          "output_type": "stream",
          "name": "stdout",
          "text": [
            "El objeto ha sido creado\n",
            "El objeto ha sido creado\n",
            "El objeto ha sido creado\n",
            "Hola, alexi\n"
          ]
        }
      ]
    },
    {
      "cell_type": "code",
      "source": [
        "class Cuadrado:\n",
        "    def __init__(self, lado):\n",
        "        self.lado = lado\n",
        "\n",
        "    def calcular_area(self):\n",
        "        area = self.lado ** 2\n",
        "        return area\n",
        "\n",
        "lado_cuadrado = 5\n",
        "mi_cuadrado = Cuadrado(lado_cuadrado)\n",
        "area_cuadrado = mi_cuadrado.calcular_area()\n",
        "\n",
        "print(f\"El área del cuadrado con lado {lado_cuadrado} es: {area_cuadrado}\")\n"
      ],
      "metadata": {
        "colab": {
          "base_uri": "https://localhost:8080/"
        },
        "id": "qS9_Gnjy5XRv",
        "outputId": "c220395f-d47b-4b29-e2db-060fe3157ba3"
      },
      "execution_count": 22,
      "outputs": [
        {
          "output_type": "stream",
          "name": "stdout",
          "text": [
            "El área del cuadrado con lado 5 es: 25\n"
          ]
        }
      ]
    },
    {
      "cell_type": "code",
      "source": [
        "class Calculadora:\n",
        "    def __init__(self, radio, base, altura, lado): #Fixed the typo here, it should be __init__\n",
        "        self.radio = radio\n",
        "        self.base = base\n",
        "        self.altura = altura\n",
        "        self.lado = lado\n",
        "\n",
        "    def area_circulo(self):\n",
        "        return 3.1416 * self.radio ** 2\n",
        "\n",
        "    def area_triangulo(self):\n",
        "        return (self.base * self.altura) / 2\n",
        "\n",
        "    def area_cuadrado(self):\n",
        "      return self.lado ** 2\n",
        "\n",
        "# Example usage\n",
        "calculadora = Calculadora(8, 7, 14, 12)\n",
        "\n",
        "area_circulo = calculadora.area_circulo()\n",
        "print(\"Area del circulo:\", area_circulo)\n",
        "\n",
        "area_triangulo = calculadora.area_triangulo()\n",
        "print(\"Area del triangulo:\", area_triangulo)\n",
        "\n",
        "area_cuadrado = calculadora.area_cuadrado()\n",
        "print(\"Area del cuadrado:\", area_cuadrado)\n"
      ],
      "metadata": {
        "colab": {
          "base_uri": "https://localhost:8080/"
        },
        "id": "iZwky1BY7E3-",
        "outputId": "9529a1bf-40d8-403b-ff75-f77e5cd97732"
      },
      "execution_count": 26,
      "outputs": [
        {
          "output_type": "stream",
          "name": "stdout",
          "text": [
            "Area del circulo: 201.0624\n",
            "Area del triangulo: 49.0\n",
            "Area del cuadrado: 144\n"
          ]
        }
      ]
    },
    {
      "cell_type": "code",
      "source": [
        "#CLASE DONDE SE PERMITA INGRESAR EL NOMBRE EN MAYUSCULAS Y EDAD - NOMBRE INGRESO EN MINUSCULAS PERO QUE IMPRINA EN MAYUSCYULAS\n",
        "\n",
        "class nombreEdad(object):\n",
        "  def __init__(self,name,age):\n",
        "    print(f\"Objeto creado\")\n",
        "    self.name=name\n",
        "    self.age=age\n",
        "  def upperName(self):\n",
        "    return f\"Name: {self.name.upper()} and the age: {self.age}\"\n",
        "\n",
        "estudiante1=nombreEdad('Alexi',21)\n",
        "\n",
        "print(estudiante1.upperName())\n",
        "\n"
      ],
      "metadata": {
        "colab": {
          "base_uri": "https://localhost:8080/"
        },
        "id": "i6Npqdyk_MTA",
        "outputId": "5a22c108-e41a-4856-ca2c-2bd83d929ebc"
      },
      "execution_count": 31,
      "outputs": [
        {
          "output_type": "stream",
          "name": "stdout",
          "text": [
            "Objeto creado\n",
            "Name: ALEXI and the age: 21\n"
          ]
        }
      ]
    },
    {
      "cell_type": "code",
      "source": [
        "class Calculadora:\n",
        "    def __init__(self, num1, num2):\n",
        "        self.num1 = num1\n",
        "        self.num2 = num2\n",
        "\n",
        "    def sumar(self):\n",
        "        resultado = self.num1 + self.num2\n",
        "        self.mostrar_paridad(resultado)\n",
        "        return resultado\n",
        "\n",
        "    def restar(self):\n",
        "        resultado = self.num1 - self.num2\n",
        "        self.mostrar_paridad(resultado)\n",
        "        return resultado\n",
        "\n",
        "    def multiplicar(self):\n",
        "        resultado = self.num1 * self.num2\n",
        "        self.mostrar_paridad(resultado)\n",
        "        return resultado\n",
        "\n",
        "    def mostrar_paridad(self, numero):\n",
        "        if numero % 2 == 0:\n",
        "            print(f\"El resultado {numero} es par.\")\n",
        "        else:\n",
        "            print(f\"El resultado {numero} es impar.\")\n",
        "\n",
        "# Ejemplo de uso\n",
        "calc = Calculadora(10, 5)\n",
        "\n",
        "# Operaciones\n",
        "resultado_suma = calc.sumar()\n",
        "resultado_resta = calc.restar()\n",
        "resultado_multiplicacion = calc.multiplicar()\n",
        "\n",
        "# Resultados\n",
        "print(f\"Suma: {resultado_suma}\")\n",
        "print(f\"Resta: {resultado_resta}\")\n",
        "print(f\"Multiplicación: {resultado_multiplicacion}\")\n"
      ],
      "metadata": {
        "colab": {
          "base_uri": "https://localhost:8080/"
        },
        "id": "Kj9bczHfDZ-_",
        "outputId": "03c680d0-29e1-4d22-e288-dcaf2ed32e24"
      },
      "execution_count": 33,
      "outputs": [
        {
          "output_type": "stream",
          "name": "stdout",
          "text": [
            "El resultado 15 es impar.\n",
            "El resultado 5 es impar.\n",
            "El resultado 50 es par.\n",
            "Suma: 15\n",
            "Resta: 5\n",
            "Multiplicación: 50\n"
          ]
        }
      ]
    },
    {
      "cell_type": "code",
      "source": [
        "class Calculadora:\n",
        "    def __init__(self, num1, num2):\n",
        "        self.num1 = num1\n",
        "        self.num2 = num2\n",
        "\n",
        "    def sumar(self):\n",
        "        resultado = self.num1 + self.num2\n",
        "        self.mostrar_resultado(resultado)\n",
        "\n",
        "    def restar(self):\n",
        "        resultado = self.num1 - self.num2\n",
        "        self.mostrar_resultado(resultado)\n",
        "\n",
        "    def multiplicar(self):\n",
        "        resultado = self.num1 * self.num2\n",
        "        self.mostrar_resultado(resultado)\n",
        "\n",
        "    def mostrar_resultado(self, resultado):\n",
        "        if resultado % 2 == 0:\n",
        "            print(f\"El resultado de la operación es {resultado} y es par.\")\n",
        "        else:\n",
        "            print(f\"El resultado de la operación es {resultado} y es impar.\")\n",
        "\n",
        "# Ejemplo de uso\n",
        "calc = Calculadora(10, 5)\n",
        "\n",
        "# Operaciones\n",
        "print(\"Suma:\")\n",
        "calc.sumar()\n",
        "\n",
        "print(\"\\nResta:\")\n",
        "calc.restar()\n",
        "\n",
        "print(\"\\nMultiplicación:\")\n",
        "calc.multiplicar()\n"
      ],
      "metadata": {
        "colab": {
          "base_uri": "https://localhost:8080/"
        },
        "id": "-OTkWdVLEPhA",
        "outputId": "c8b51556-5b57-41c9-fd25-87b04e3890a8"
      },
      "execution_count": 34,
      "outputs": [
        {
          "output_type": "stream",
          "name": "stdout",
          "text": [
            "Suma:\n",
            "El resultado de la operación es 15 y es impar.\n",
            "\n",
            "Resta:\n",
            "El resultado de la operación es 5 y es impar.\n",
            "\n",
            "Multiplicación:\n",
            "El resultado de la operación es 50 y es par.\n"
          ]
        }
      ]
    }
  ]
}