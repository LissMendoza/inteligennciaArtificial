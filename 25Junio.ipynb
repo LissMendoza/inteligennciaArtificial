{
  "nbformat": 4,
  "nbformat_minor": 0,
  "metadata": {
    "colab": {
      "provenance": [],
      "authorship_tag": "ABX9TyMrAeLAr13uEKVrDP8FBaMn",
      "include_colab_link": true
    },
    "kernelspec": {
      "name": "python3",
      "display_name": "Python 3"
    },
    "language_info": {
      "name": "python"
    }
  },
  "cells": [
    {
      "cell_type": "markdown",
      "metadata": {
        "id": "view-in-github",
        "colab_type": "text"
      },
      "source": [
        "<a href=\"https://colab.research.google.com/github/LissMendoza/inteligennciaArtificial/blob/main/25Junio.ipynb\" target=\"_parent\"><img src=\"https://colab.research.google.com/assets/colab-badge.svg\" alt=\"Open In Colab\"/></a>"
      ]
    },
    {
      "cell_type": "code",
      "execution_count": null,
      "metadata": {
        "id": "0Ns_1wWPtIiB"
      },
      "outputs": [],
      "source": []
    },
    {
      "cell_type": "code",
      "source": [
        "# tmp=list()\n",
        "# tmp.append(2)\n",
        "# print(tmp)\n",
        "# tmp.append('alexi')\n",
        "# print(tmp)\n",
        "# tmp.append('lisseth')\n",
        "# print(tmp)\n",
        "\n",
        "#print(tmp[3])\n",
        "#aux.capitalize()\n",
        "#print(aux)\n",
        "#print(aux.upper())\n",
        "\n",
        "# tmp1='hello'\n",
        "# print(tmp1.capitalize())\n",
        "\n",
        "# aux1=[1,2,3,4,5,6,7,8,9,10]\n",
        "# print(aux1)\n",
        "\n",
        "# aux1[4]=10\n",
        "# print(aux1)\n",
        "\n",
        "# print(aux1[-1])\n",
        "# print(aux1[3:7])\n",
        "# print(aux1[0:5])\n",
        "# print(aux1[:5])\n",
        "\n",
        "# aux2=list()\n",
        "# for i in range(100):\n",
        "#   aux2.append(i)\n",
        "#   print(aux2[:20])\n",
        "\n",
        "\n",
        "#   aux3=list()\n",
        "#   for indx, elem in enumerate(aux2):\n",
        "#     if aux2[indx]%2==0:\n",
        "#       aux3.append(aux2[indx]**2)\n",
        "# print(aux3)\n",
        "\n",
        "animals=['cat', 'dog', 'monky', 'rabbit']\n",
        "for animal in animals:\n",
        "  print(animal)\n",
        "\n",
        "tmp3=[ i**2 for i in range(10) if i%2==0 ]\n",
        "print(tmp3)\n",
        "\n"
      ],
      "metadata": {
        "colab": {
          "base_uri": "https://localhost:8080/"
        },
        "id": "hNFAjy7otJgh",
        "outputId": "56d5342d-3431-4f27-95a3-cc35f5ab91c8"
      },
      "execution_count": 6,
      "outputs": [
        {
          "output_type": "stream",
          "name": "stdout",
          "text": [
            "cat\n",
            "dog\n",
            "monky\n",
            "rabbit\n",
            "[0, 4, 16, 36, 64]\n"
          ]
        }
      ]
    },
    {
      "cell_type": "code",
      "source": [
        "myDictionary={'cat':'cute','dog':'big'}\n",
        "print(myDictionary['cat'])\n",
        "myDictAux={'monkey':'black','mouse':'small','rabitt':'white'}\n",
        "myDictionary.update(myDictAux)\n",
        "print(myDictionary)\n",
        "for key, value in myDictionary.items():\n",
        "  print(f'key : {key} Value {value}')\n",
        "\n",
        "\n",
        "  myList=[1,2,3,4,5,6]\n",
        "  myDictAux={x:x**2}"
      ],
      "metadata": {
        "colab": {
          "base_uri": "https://localhost:8080/"
        },
        "id": "PAbp7s-Dvasy",
        "outputId": "7ee3999d-4820-41b7-f465-6d186e60cffc"
      },
      "execution_count": 9,
      "outputs": [
        {
          "output_type": "stream",
          "name": "stdout",
          "text": [
            "cute\n",
            "{'cat': 'cute', 'dog': 'big', 'monkey': 'black', 'mouse': 'small', 'rabitt': 'white'}\n",
            "key : cat Value cute\n",
            "key : dog Value big\n",
            "key : monkey Value black\n",
            "key : mouse Value small\n",
            "key : rabitt Value white\n"
          ]
        }
      ]
    }
  ]
}