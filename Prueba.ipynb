{
  "nbformat": 4,
  "nbformat_minor": 0,
  "metadata": {
    "colab": {
      "provenance": [],
      "include_colab_link": true
    },
    "kernelspec": {
      "name": "python3",
      "display_name": "Python 3"
    },
    "language_info": {
      "name": "python"
    }
  },
  "cells": [
    {
      "cell_type": "markdown",
      "metadata": {
        "id": "view-in-github",
        "colab_type": "text"
      },
      "source": [
        "<a href=\"https://colab.research.google.com/github/LissMendoza/inteligennciaArtificial/blob/main/Prueba.ipynb\" target=\"_parent\"><img src=\"https://colab.research.google.com/assets/colab-badge.svg\" alt=\"Open In Colab\"/></a>"
      ]
    },
    {
      "cell_type": "code",
      "execution_count": null,
      "metadata": {
        "colab": {
          "base_uri": "https://localhost:8080/"
        },
        "id": "y3_uQnqw-VQa",
        "outputId": "9cf70b7d-ab43-4db2-8342-3c2151e83c51"
      },
      "outputs": [
        {
          "output_type": "stream",
          "name": "stdout",
          "text": [
            "1.25.2\n"
          ]
        }
      ],
      "source": [
        "# Import numpy as np and see the version\n",
        "import numpy as np\n",
        "print(np.__version__)"
      ]
    },
    {
      "cell_type": "code",
      "source": [
        "# Create a 1D array of numbers from 0 to 9\n",
        "matriz_1d = np.array([0, 1, 2, 3, 4, 5, 6, 7, 8, 9])\n",
        "print(matriz_1d)"
      ],
      "metadata": {
        "colab": {
          "base_uri": "https://localhost:8080/"
        },
        "id": "ncg1tpP1_Wmt",
        "outputId": "f3dc5465-3efe-4e17-8159-5f97d56f4079"
      },
      "execution_count": null,
      "outputs": [
        {
          "output_type": "stream",
          "name": "stdout",
          "text": [
            "[0 1 2 3 4 5 6 7 8 9]\n"
          ]
        }
      ]
    },
    {
      "cell_type": "code",
      "source": [
        "# Create random vector of size 10 and replace the maximum value by 0\n",
        "random_vector = np.random.rand(10)\n",
        "max_index = random_vector.argmax()\n",
        "random_vector[max_index] = 0\n",
        "\n",
        "print(random_vector)\n"
      ],
      "metadata": {
        "colab": {
          "base_uri": "https://localhost:8080/"
        },
        "id": "VZsmyhFR_8Et",
        "outputId": "ede0a8c1-444a-40ed-9792-2aea5e6b0776"
      },
      "execution_count": null,
      "outputs": [
        {
          "output_type": "stream",
          "name": "stdout",
          "text": [
            "[0.47786902 0.67687515 0.55840534 0.44526789 0.21073531 0.87405559\n",
            " 0.00378404 0.         0.54909443 0.7384902 ]\n"
          ]
        }
      ]
    },
    {
      "cell_type": "code",
      "source": [
        "# Print the number 8 from the array below:\n",
        "# arr = np.array([[1,2,3,4,5], [6,7,8,9,10]])\n",
        "arr=np.array([[1,2,3,4,5], [6,7,8,9,10]])\n",
        "print(arr[1, 2])\n",
        "#Se encuentra en la segunda fila (índice 1) y la tercera columna (índice 2)"
      ],
      "metadata": {
        "colab": {
          "base_uri": "https://localhost:8080/"
        },
        "id": "s7fufP6pAuRT",
        "outputId": "55e2a380-6709-4529-97d0-8c39e03aaeb2"
      },
      "execution_count": null,
      "outputs": [
        {
          "output_type": "stream",
          "name": "stdout",
          "text": [
            "8\n"
          ]
        }
      ]
    },
    {
      "cell_type": "code",
      "source": [
        "# Print the numbers [3, 4, 5] from the array below:\n",
        "# arr = np.array([1,2,3,4,5,6,7])\n",
        "arr=np.array([1,2,3,4,5,6,7])\n",
        "print(arr[2:5])"
      ],
      "metadata": {
        "colab": {
          "base_uri": "https://localhost:8080/"
        },
        "id": "OS8mGdTZBhjd",
        "outputId": "eb525ab4-3d8f-42a7-aeb8-199244238126"
      },
      "execution_count": null,
      "outputs": [
        {
          "output_type": "stream",
          "name": "stdout",
          "text": [
            "[3 4 5]\n"
          ]
        }
      ]
    },
    {
      "cell_type": "code",
      "source": [
        "# Print the last 4 numbers from the array below:\n",
        "# arr = np.array([1,2,3,4,5,6,7])\n",
        "arr=np.array([1,2,3,4,5,6,7])\n",
        "ultimos_4_numeros = arr[-4:]\n",
        "\n",
        "print(ultimos_4_numeros)\n",
        "#slicing"
      ],
      "metadata": {
        "colab": {
          "base_uri": "https://localhost:8080/"
        },
        "id": "rV-lhZYrCEx8",
        "outputId": "f2ebe556-2726-4b3c-ee66-0e101e37fb00"
      },
      "execution_count": null,
      "outputs": [
        {
          "output_type": "stream",
          "name": "stdout",
          "text": [
            "[4 5 6 7]\n"
          ]
        }
      ]
    },
    {
      "cell_type": "code",
      "source": [
        "# Create a 3×3 numpy array of all True’s\n",
        "# your code here\n",
        "array_of_trues = np.ones((3, 3), dtype=bool)\n",
        "array_of_trues = np.full((3, 3), True)\n",
        "print(array_of_trues)\n"
      ],
      "metadata": {
        "colab": {
          "base_uri": "https://localhost:8080/"
        },
        "id": "s7c7ODiOCq2k",
        "outputId": "949566b8-367a-418d-db71-be153230dfa8"
      },
      "execution_count": null,
      "outputs": [
        {
          "output_type": "stream",
          "name": "stdout",
          "text": [
            "[[ True  True  True]\n",
            " [ True  True  True]\n",
            " [ True  True  True]]\n"
          ]
        }
      ]
    },
    {
      "cell_type": "code",
      "source": [
        "# Extract all odd numbers from arr\n",
        "\n",
        "# Crear una matriz 3x3 de números enteros entre 0 y 9\n",
        "matriz = np.random.randint(0, 10, (3, 3))\n",
        "\n",
        "print(\"Matriz original:\")\n",
        "print(matriz)\n",
        "\n",
        "# Encontrar los números impares\n",
        "numeros_impares = matriz[matriz % 2 != 0]\n",
        "\n",
        "print(\"\\nNúmeros impares:\")\n",
        "print(numeros_impares)"
      ],
      "metadata": {
        "colab": {
          "base_uri": "https://localhost:8080/"
        },
        "id": "myk2llkxEUJs",
        "outputId": "3fdd1170-928b-453e-9352-e4447b5dfb3a"
      },
      "execution_count": null,
      "outputs": [
        {
          "output_type": "stream",
          "name": "stdout",
          "text": [
            "Matriz original:\n",
            "[[2 6 7]\n",
            " [5 4 2]\n",
            " [5 7 2]]\n",
            "\n",
            "Números impares:\n",
            "[7 5 5 7]\n"
          ]
        }
      ]
    },
    {
      "cell_type": "code",
      "source": [
        "# Create a vector with values ranging from 10 to 49 (★☆☆)\n",
        "vector = np.arange(10, 49)\n",
        "print(vector)"
      ],
      "metadata": {
        "colab": {
          "base_uri": "https://localhost:8080/"
        },
        "id": "MLw5GkvnEx_R",
        "outputId": "56a6b7a9-d81d-4bb6-cbf9-cc0195c3fde9"
      },
      "execution_count": null,
      "outputs": [
        {
          "output_type": "stream",
          "name": "stdout",
          "text": [
            "[10 11 12 13 14 15 16 17 18 19 20 21 22 23 24 25 26 27 28 29 30 31 32 33\n",
            " 34 35 36 37 38 39 40 41 42 43 44 45 46 47 48]\n"
          ]
        }
      ]
    },
    {
      "cell_type": "code",
      "source": [
        "# Reverse a vector (first element becomes last)\n",
        "vector = np.array([1, 2, 3, 4, 5])\n",
        "\n",
        "print(\"Vector original:\")\n",
        "print(vector)\n",
        "\n",
        "# Mover el último valor al primer lugar\n",
        "vector = np.roll(vector, 1)\n",
        "\n",
        "print(\"\\nVector con el último valor como el primero:\")\n",
        "print(vector)"
      ],
      "metadata": {
        "colab": {
          "base_uri": "https://localhost:8080/"
        },
        "id": "0vtxstM2FR_0",
        "outputId": "c9d085b5-0740-4d2a-82bf-a1e8fe1de998"
      },
      "execution_count": null,
      "outputs": [
        {
          "output_type": "stream",
          "name": "stdout",
          "text": [
            "Vector original:\n",
            "[1 2 3 4 5]\n",
            "\n",
            "Vector con el último valor como el primero:\n",
            "[5 1 2 3 4]\n"
          ]
        }
      ]
    },
    {
      "cell_type": "code",
      "source": [
        "#  Create a 10x10 array with random integer values and find the minimum and maximum values\n",
        "matriz = np.random.randint(59, 100, (10, 10))\n",
        "\n",
        "print(\"Matriz:\")\n",
        "print(matriz)\n",
        "print(matriz.max())\n",
        "print(matriz.min())"
      ],
      "metadata": {
        "colab": {
          "base_uri": "https://localhost:8080/"
        },
        "id": "qRmsUeyyGemD",
        "outputId": "dc3d6dc0-bab0-487f-90b2-d18c7c6e37db"
      },
      "execution_count": null,
      "outputs": [
        {
          "output_type": "stream",
          "name": "stdout",
          "text": [
            "Matriz:\n",
            "[[91 80 77 87 60 94 66 97 63 70]\n",
            " [79 85 99 68 92 71 77 60 92 65]\n",
            " [93 71 74 64 63 89 91 61 74 77]\n",
            " [77 76 64 78 75 94 59 86 97 89]\n",
            " [87 63 67 80 83 99 82 87 99 90]\n",
            " [63 63 97 79 85 77 73 89 60 86]\n",
            " [98 65 81 64 70 89 79 91 82 94]\n",
            " [73 81 87 77 84 79 60 79 73 94]\n",
            " [98 99 99 91 63 88 68 66 95 89]\n",
            " [66 99 76 83 83 67 83 91 65 73]]\n",
            "99\n",
            "59\n"
          ]
        }
      ]
    },
    {
      "cell_type": "code",
      "source": [
        "# Create a 3x3x3 array with random values\n",
        "array_with_random_values = np.random.rand(3, 3, 3)\n",
        "print(array_with_random_values)\n"
      ],
      "metadata": {
        "colab": {
          "base_uri": "https://localhost:8080/"
        },
        "id": "HqKsZwCLHCcj",
        "outputId": "f3f2217c-5b78-4379-fe4f-edb5172910be"
      },
      "execution_count": null,
      "outputs": [
        {
          "output_type": "stream",
          "name": "stdout",
          "text": [
            "[[[0.98021604 0.77607025 0.49622349]\n",
            "  [0.27217428 0.14495604 0.03079633]\n",
            "  [0.87547117 0.99828054 0.16322704]]\n",
            "\n",
            " [[0.15104841 0.47222353 0.72915897]\n",
            "  [0.07057047 0.29314068 0.98941792]\n",
            "  [0.86526005 0.53014195 0.60356122]]\n",
            "\n",
            " [[0.83063753 0.90526801 0.29182914]\n",
            "  [0.57986988 0.98908702 0.1045401 ]\n",
            "  [0.21727829 0.00720892 0.84060246]]]\n"
          ]
        }
      ]
    },
    {
      "cell_type": "code",
      "source": [
        "# Replace all odd numbers in arr with -1\n",
        "def reemplazar_impares_bucle(arr):\n",
        "\n",
        "  for i in range(len(arr)):\n",
        "    if arr[i] % 2 != 0:\n",
        "      arr[i] = -1\n",
        "  return arr\n",
        "\n",
        "mi_arr = [1, 2, 3, 4, 5]\n",
        "nueva_arr = reemplazar_impares_bucle(mi_arr)\n",
        "print(nueva_arr)\n"
      ],
      "metadata": {
        "id": "DX5zDPJ5ksj-",
        "outputId": "8de7f2a0-4d75-4889-f362-f1a76a14815d",
        "colab": {
          "base_uri": "https://localhost:8080/"
        }
      },
      "execution_count": null,
      "outputs": [
        {
          "output_type": "stream",
          "name": "stdout",
          "text": [
            "[-1, 2, -1, 4, -1]\n"
          ]
        }
      ]
    },
    {
      "cell_type": "code",
      "source": [
        "# Create an array of type float\n",
        "array_float = np.array([1, 2.5, 3, 4.1], dtype=float)\n",
        "\n",
        "array_float = np.empty(4, dtype=float)\n",
        "array_float[:] = [1, 2.5, 3, 4.1]\n",
        "\n",
        "print(array_float)\n"
      ],
      "metadata": {
        "id": "4lsk0xSVlMFt",
        "outputId": "26077ac6-6c4c-4be2-ef66-2ac4290d4cf1",
        "colab": {
          "base_uri": "https://localhost:8080/"
        }
      },
      "execution_count": null,
      "outputs": [
        {
          "output_type": "stream",
          "name": "stdout",
          "text": [
            "[1.  2.5 3.  4.1]\n"
          ]
        }
      ]
    },
    {
      "cell_type": "code",
      "source": [
        "# Convert a 1D array to a 2D array with 2 rows\n",
        "arr = np.array([1, 2, 3, 4, 5, 6])\n",
        "\n",
        "# Reestructurar el array para que tenga 2 filas\n",
        "array_2d = arr.reshape(2, -1)  # -1 infiere el número de columnas\n",
        "\n",
        "print(array_2d)\n"
      ],
      "metadata": {
        "id": "Wbhu2Y3OlgQX",
        "outputId": "1f07c9ec-b234-4757-eb15-c78b8569bcb7",
        "colab": {
          "base_uri": "https://localhost:8080/"
        }
      },
      "execution_count": null,
      "outputs": [
        {
          "output_type": "stream",
          "name": "stdout",
          "text": [
            "[[1 2 3]\n",
            " [4 5 6]]\n"
          ]
        }
      ]
    },
    {
      "cell_type": "code",
      "source": [
        "# How to find common values between two arrays?\n",
        "# Z1 = np.random.randint(0,10,10)\n",
        "# Z2 = np.random.randint(0,10,10)\n",
        "\n",
        "\n",
        "# Arrays de ejemplo\n",
        "Z1 = np.random.randint(0, 10, 10)\n",
        "Z2 = np.random.randint(0, 10, 10)\n",
        "\n",
        "# Convertir arrays a conjuntos y encontrar la intersección\n",
        "valores_comunes = set(Z1) & set(Z2)\n",
        "\n",
        "# Convertir el conjunto de nuevo a una lista (opcional)\n",
        "lista_valores_comunes = list(valores_comunes)\n",
        "\n",
        "print(valores_comunes)\n",
        "print(lista_valores_comunes)"
      ],
      "metadata": {
        "id": "GoSKRW00mJMp",
        "outputId": "e438e23e-5c43-4855-e87b-47985d5e7766",
        "colab": {
          "base_uri": "https://localhost:8080/"
        }
      },
      "execution_count": null,
      "outputs": [
        {
          "output_type": "stream",
          "name": "stdout",
          "text": [
            "{0, 8, 4}\n",
            "[0, 8, 4]\n"
          ]
        }
      ]
    },
    {
      "cell_type": "code",
      "source": [
        "#  Consider two random array A and B, check if they are equal\n",
        "# A = np.random.randint(0,2,5)\n",
        "# B = np.random.randint(0,2,5)\n",
        "\n",
        "# Arrays aleatorios de ejemplo\n",
        "A = np.random.randint(0, 2, 5)\n",
        "B = np.random.randint(0, 2, 5)\n",
        "\n",
        "# Verificar si los arrays son iguales elemento a elemento usando all()\n",
        "son_iguales = np.all(A == B)\n",
        "\n",
        "# Imprimir el resultado\n",
        "print(f\"Los arrays son iguales: {son_iguales}\")\n"
      ],
      "metadata": {
        "id": "hQS-q9GumkiV",
        "outputId": "f006b890-5e94-4d74-b250-dda7e0c09571",
        "colab": {
          "base_uri": "https://localhost:8080/"
        }
      },
      "execution_count": null,
      "outputs": [
        {
          "output_type": "stream",
          "name": "stdout",
          "text": [
            "Los arrays son iguales: False\n"
          ]
        }
      ]
    },
    {
      "cell_type": "code",
      "source": [
        "# Stack arrays a and b vertically\n",
        "\n",
        "# Arrays de ejemplo\n",
        "a = np.array([1, 2, 3])\n",
        "b = np.array([4, 5, 6])\n",
        "\n",
        "# Apilar arrays verticalmente usando vstack\n",
        "array_apilado = np.vstack((a, b))\n",
        "\n",
        "print(array_apilado)"
      ],
      "metadata": {
        "id": "jsbEg755nf90",
        "outputId": "aaddda26-58e1-4a8a-a541-4a7f7f67219d",
        "colab": {
          "base_uri": "https://localhost:8080/"
        }
      },
      "execution_count": null,
      "outputs": [
        {
          "output_type": "stream",
          "name": "stdout",
          "text": [
            "[[1 2 3]\n",
            " [4 5 6]]\n"
          ]
        }
      ]
    },
    {
      "cell_type": "code",
      "source": [
        "# Stack the arrays a and b horizontally.\n",
        "\n",
        "# Arrays de ejemplo\n",
        "a = np.array([1, 2, 3])\n",
        "b = np.array([4, 5, 6])\n",
        "\n",
        "# Apilar arrays horizontalmente usando hstack\n",
        "array_apilado = np.hstack((a, b))\n",
        "\n",
        "print(array_apilado)\n"
      ],
      "metadata": {
        "id": "kgRASCSfn06S",
        "outputId": "cbcd0a57-1401-497a-838f-9e147d5ad9b2",
        "colab": {
          "base_uri": "https://localhost:8080/"
        }
      },
      "execution_count": null,
      "outputs": [
        {
          "output_type": "stream",
          "name": "stdout",
          "text": [
            "[1 2 3 4 5 6]\n"
          ]
        }
      ]
    },
    {
      "cell_type": "code",
      "source": [
        "# Get all items between 5 and 10 from array tmp.\n",
        "\n",
        "tmp = np.arange(15)\n",
        "\n",
        "# Obtener elementos entre 5 y 10 (excluyendo 10) usando slicing\n",
        "entre_5_y_10 = tmp[5:10]\n",
        "\n",
        "print(entre_5_y_10)\n"
      ],
      "metadata": {
        "id": "7i4o0TibovcW",
        "outputId": "b839b529-f04d-47e0-8cc4-5f240810bfd0",
        "colab": {
          "base_uri": "https://localhost:8080/"
        }
      },
      "execution_count": null,
      "outputs": [
        {
          "output_type": "stream",
          "name": "stdout",
          "text": [
            "[5 6 7 8 9]\n"
          ]
        }
      ]
    },
    {
      "cell_type": "code",
      "source": [
        "# How to make a python function that handles scalars to work on numpy arrays?\n",
        "\n",
        "def pair_max(x, y):\n",
        "\n",
        "\n",
        "  # Comprobar si ambas entradas son escalares\n",
        "  if not np.isscalar(x) and not np.isscalar(y):\n",
        "    # Si ambas son arrays, asegurarse de que tienen la misma forma\n",
        "    if not np.array_equal(x.shape, y.shape):\n",
        "      raise ValueError(\"Los arrays de entrada deben tener la misma forma.\")\n",
        "    # Aplicar el máximo elemento a elemento utilizando la difusión\n",
        "    return np.maximum(x, y)\n",
        "  else:\n",
        "    # Si al menos una entrada es un escalar, utilizar la función escalar\n",
        "    return max(x, y)  # Reemplazar maxx con su función max escalar\n",
        "\n",
        "# Ejemplo de uso con escalares\n",
        "result1 = pair_max(5, 3)\n",
        "print(result1)\n",
        "\n",
        "# Ejemplo de uso con arrays NumPy\n",
        "a = np.array([5, 7, 9, 8, 6, 4, 5])\n",
        "b = np.array([6, 3, 4, 8, 9, 7, 1])\n",
        "result2 = pair_max(a, b)\n",
        "print(result2)"
      ],
      "metadata": {
        "id": "ICXt-i7KpEeI",
        "outputId": "118d2d2a-dd65-466d-96cf-f6b4844a4027",
        "colab": {
          "base_uri": "https://localhost:8080/"
        }
      },
      "execution_count": null,
      "outputs": [
        {
          "output_type": "stream",
          "name": "stdout",
          "text": [
            "5\n",
            "[6 7 9 8 9 7 5]\n"
          ]
        }
      ]
    },
    {
      "cell_type": "code",
      "source": [
        "# Swap columns 1 and 2 in the array arr.\n",
        "arr = np.arange(9).reshape(3, 3)\n",
        "print(arr)\n",
        "\n",
        "arr[:, [1, 0, 2]] = arr[:, [0, 2, 1]]\n",
        "\n",
        "print(arr)"
      ],
      "metadata": {
        "id": "spfUoOC8qOm7",
        "outputId": "ff344e0e-bd72-459d-f16e-f7f290e70508",
        "colab": {
          "base_uri": "https://localhost:8080/"
        }
      },
      "execution_count": null,
      "outputs": [
        {
          "output_type": "stream",
          "name": "stdout",
          "text": [
            "[[0 1 2]\n",
            " [3 4 5]\n",
            " [6 7 8]]\n",
            "[[2 0 1]\n",
            " [5 3 4]\n",
            " [8 6 7]]\n"
          ]
        }
      ]
    },
    {
      "cell_type": "code",
      "source": [
        "#Create a 2D array of shape 5x3 to contain random decimal numbers between 5 and 10.\n",
        "random_decimals = np.random.rand(5, 3) * 5 + 5\n",
        "\n",
        "print(random_decimals)\n"
      ],
      "metadata": {
        "id": "gJ97adm3qsHA",
        "outputId": "f8771956-b633-4545-d908-b945e376e961",
        "colab": {
          "base_uri": "https://localhost:8080/"
        }
      },
      "execution_count": null,
      "outputs": [
        {
          "output_type": "stream",
          "name": "stdout",
          "text": [
            "[[8.68441218 8.75954194 6.80330588]\n",
            " [8.27682069 5.90026403 5.57666241]\n",
            " [9.01203583 5.16309548 8.4262429 ]\n",
            " [7.69543937 8.77401128 9.45768606]\n",
            " [9.44015324 5.78527853 8.85433582]]\n"
          ]
        }
      ]
    }
  ]
}