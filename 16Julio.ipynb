{
  "nbformat": 4,
  "nbformat_minor": 0,
  "metadata": {
    "colab": {
      "provenance": [],
      "authorship_tag": "ABX9TyOJ/NAsdXl0R0HeCbRneOg7",
      "include_colab_link": true
    },
    "kernelspec": {
      "name": "python3",
      "display_name": "Python 3"
    },
    "language_info": {
      "name": "python"
    }
  },
  "cells": [
    {
      "cell_type": "markdown",
      "metadata": {
        "id": "view-in-github",
        "colab_type": "text"
      },
      "source": [
        "<a href=\"https://colab.research.google.com/github/LissMendoza/inteligennciaArtificial/blob/main/16Julio.ipynb\" target=\"_parent\"><img src=\"https://colab.research.google.com/assets/colab-badge.svg\" alt=\"Open In Colab\"/></a>"
      ]
    },
    {
      "cell_type": "code",
      "execution_count": 1,
      "metadata": {
        "colab": {
          "base_uri": "https://localhost:8080/"
        },
        "id": "yizhoMKox6dx",
        "outputId": "b9ad0e11-14e3-4dd0-98a9-e8c0ab93ee9a"
      },
      "outputs": [
        {
          "output_type": "stream",
          "name": "stdout",
          "text": [
            "2.0.3\n"
          ]
        }
      ],
      "source": [
        "import pandas as pd\n",
        "\n",
        "\n",
        "print(pd.__version__)\n"
      ]
    },
    {
      "cell_type": "code",
      "source": [
        "serieDato=pd.Series(data=[100,200,300],index=['juan','pedro','lucas'])\n",
        "print(serieDato)\n",
        "print(serieDato['juan'])\n",
        "\n",
        "print(serieDato.index)\n",
        "print('pedro' in serieDato)\n",
        "\n"
      ],
      "metadata": {
        "colab": {
          "base_uri": "https://localhost:8080/"
        },
        "id": "L3FyUdDazWNQ",
        "outputId": "2424c8cc-ea3f-4ec5-b6ad-607f7e82c961"
      },
      "execution_count": 7,
      "outputs": [
        {
          "output_type": "stream",
          "name": "stdout",
          "text": [
            "juan     100\n",
            "pedro    200\n",
            "lucas    300\n",
            "dtype: int64\n",
            "100\n",
            "Index(['juan', 'pedro', 'lucas'], dtype='object')\n"
          ]
        }
      ]
    },
    {
      "cell_type": "code",
      "source": [
        "myDictionary={'one':pd.Series([100,200,300],index=['juan','pedro','lucas']),'two':pd.Series([11,22,33],index=['julio','pedro','lucas'])}\n",
        "#series and dataframe\n",
        "\n",
        "df=pd.DataFrame(myDictionary)\n",
        "print(df)\n",
        "\n",
        "print(df.index)\n",
        "print(df.columns)\n"
      ],
      "metadata": {
        "colab": {
          "base_uri": "https://localhost:8080/"
        },
        "id": "1NkKwyBc1GUP",
        "outputId": "5ebb2c9b-98e5-4c15-94d3-0ed486449082"
      },
      "execution_count": 10,
      "outputs": [
        {
          "output_type": "stream",
          "name": "stdout",
          "text": [
            "         one   two\n",
            "juan   100.0   NaN\n",
            "julio    NaN  11.0\n",
            "lucas  300.0  33.0\n",
            "pedro  200.0  22.0\n",
            "Index(['juan', 'julio', 'lucas', 'pedro'], dtype='object')\n",
            "Index(['one', 'two'], dtype='object')\n"
          ]
        }
      ]
    }
  ]
}